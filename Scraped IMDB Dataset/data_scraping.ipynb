{
 "metadata": {
  "language_info": {
   "codemirror_mode": {
    "name": "ipython",
    "version": 3
   },
   "file_extension": ".py",
   "mimetype": "text/x-python",
   "name": "python",
   "nbconvert_exporter": "python",
   "pygments_lexer": "ipython3",
   "version": "3.8.2-final"
  },
  "orig_nbformat": 2,
  "kernelspec": {
   "name": "python3",
   "display_name": "Python 3",
   "language": "python"
  }
 },
 "nbformat": 4,
 "nbformat_minor": 2,
 "cells": [
  {
   "cell_type": "code",
   "execution_count": 63,
   "metadata": {},
   "outputs": [],
   "source": [
    "import requests \n",
    "from requests import get \n",
    "from bs4 import BeautifulSoup \n",
    "import pandas as pd\n",
    "import numpy as np\n",
    "from time import sleep\n",
    "from random import randint\n",
    "\n",
    "title = []\n",
    "year = []\n",
    "certificate = []\n",
    "duration = []\n",
    "genre = []\n",
    "rating = []\n",
    "metascore = []\n",
    "director = []\n",
    "actors = []\n",
    "votes = []\n",
    "gross = []\n",
    "\n",
    "headers = {\"Accept-Language\": \"en-US, en;q=0.5\"}\n",
    "\n",
    "pages = np.arange(1, 93, 50)\n",
    "\n",
    "for page in pages:\n",
    "    page = requests.get(\"https://www.imdb.com/search/title/?title_type=feature&num_votes=25000,&genres=western&sort=user_rating,desc&start=\" + str(page) + \"&ref_=adv_nxt\", headers=headers)\n",
    "\n",
    "    page_soup = BeautifulSoup(page.text, 'html.parser')\n",
    "\n",
    "\n",
    "    movies = page_soup.findAll('div',{'class':'lister-item-content'})\n",
    "\n",
    "    sleep(randint(2,10))\n",
    "\n",
    "    for i in movies:\n",
    "        title.append(i.h3.a.text)\n",
    "        year.append(i.find('span',{\"class\":\"lister-item-year text-muted unbold\"}).text[1:10])\n",
    "        try: \n",
    "            certificate.append(i.find('span',{\"class\":\"certificate\"}).text)\n",
    "        except:\n",
    "            certificate.append(0)\n",
    "        duration.append(i.find('span',{\"class\":\"runtime\"}).text.split(\" \")[0])\n",
    "        genre.append(i.find('span',{\"class\":\"genre\"}).text.replace(\"\\n\",\" \"))\n",
    "        rating.append(float(i.find('div',{\"class\":\"inline-block ratings-imdb-rating\"})[\"data-value\"]))\n",
    "        try:\n",
    "            metascore.append(i.find('span',{\"class\":\"metascore favorable\"}).text)\n",
    "        except:\n",
    "            metascore.append(0)\n",
    "        director.append(i.find('p',{\"class\":\"\"}).text.split(\"\\n\")[2])\n",
    "        try:\n",
    "            actors.append(i.find('p',{\"class\":\"\"}).text.split(\"\\n\")[5:10])\n",
    "        except:\n",
    "            actors.append(0)\n",
    "        votes.append(i.find('span',{\"name\":\"nv\"})[\"data-value\"])\n",
    "        try:\n",
    "            gross.append(i.find('p',{\"class\":\"sort-num_votes-visible\"}).text.split(\"\\n\")[4])\n",
    "        except:\n",
    "            gross.append(0)\n",
    "\n",
    "data = list(zip(title, year, certificate, duration, genre, rating, metascore, director, actors, votes, gross))\n",
    "\n",
    "df = pd.DataFrame(data, columns=[\"title\", \"year\", \"certificate\", \"duration\", \"genre\", \"rating\", \"metascore\", \"director\", \"actors\" , \"votes\", \"gross\"])"
   ]
  },
  {
   "cell_type": "code",
   "execution_count": 64,
   "metadata": {},
   "outputs": [],
   "source": [
    "df.to_csv(r'C:\\Users\\User\\Downloads\\western_movies.csv',index=False, header=True)"
   ]
  },
  {
   "cell_type": "code",
   "execution_count": null,
   "metadata": {},
   "outputs": [],
   "source": []
  }
 ]
}