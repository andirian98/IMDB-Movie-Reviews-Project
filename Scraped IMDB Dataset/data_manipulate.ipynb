{
 "metadata": {
  "language_info": {
   "codemirror_mode": {
    "name": "ipython",
    "version": 3
   },
   "file_extension": ".py",
   "mimetype": "text/x-python",
   "name": "python",
   "nbconvert_exporter": "python",
   "pygments_lexer": "ipython3",
   "version": "3.8.2-final"
  },
  "orig_nbformat": 2,
  "kernelspec": {
   "name": "python3",
   "display_name": "Python 3",
   "language": "python"
  }
 },
 "nbformat": 4,
 "nbformat_minor": 2,
 "cells": [
  {
   "cell_type": "code",
   "execution_count": 42,
   "metadata": {},
   "outputs": [],
   "source": [
    "import pandas\n",
    "import numpy \n",
    "\n",
    "data = pandas.read_csv('Original Data/comedy_movies.csv')"
   ]
  },
  {
   "cell_type": "code",
   "execution_count": 43,
   "metadata": {},
   "outputs": [
    {
     "output_type": "stream",
     "name": "stdout",
     "text": [
      "                             title   year certificate  duration  \\\n0                   Hababam Sinifi  1975)           0        87   \n1                         Parasite  2019)           R       132   \n2                Life Is Beautiful  1997)       PG-13       116   \n3                 The Intouchables  2011)           R       112   \n4               Back to the Future  1985)          PG       116   \n...                            ...    ...         ...       ...   \n1910               Son of the Mask  2005)          PG        94   \n1911                Disaster Movie  2008)       PG-13        87   \n1912       The Hottie & the Nottie  2008)       PG-13        91   \n1913  Superbabies: Baby Geniuses 2  2004)          PG        88   \n1914                  Cumali Ceber  2017)           0       100   \n\n                                       genre  rating  metascore  \\\n0                  Comedy, Drama                 9.3          0   \n1        Comedy, Drama, Thriller                 8.6         96   \n2         Comedy, Drama, Romance                 8.6          0   \n3       Biography, Comedy, Drama                 8.5          0   \n4      Adventure, Comedy, Sci-Fi                 8.5         87   \n...                                      ...     ...        ...   \n1910     Comedy, Family, Fantasy                 2.2          0   \n1911              Comedy, Sci-Fi                 1.9          0   \n1912             Comedy, Romance                 1.9          0   \n1913      Comedy, Family, Sci-Fi                 1.9          0   \n1914                      Comedy                 1.0          0   \n\n               director                                             actors  \\\n0         Ertem Egilmez  ['Kemal Sunal, ', 'Münir Özkul, ', 'Halit Akça...   \n1          Bong Joon Ho  ['Kang-ho Song, ', 'Lee Sun-kyun, ', 'Cho Yeo-...   \n2       Roberto Benigni  ['Roberto Benigni, ', 'Nicoletta Braschi, ', '...   \n3     Olivier Nakache,   ['    Stars:', 'François Cluzet, ', 'Omar Sy, ...   \n4       Robert Zemeckis  ['Michael J. Fox, ', 'Christopher Lloyd, ', 'L...   \n...                 ...                                                ...   \n1910  Lawrence Guterman  ['Jamie Kennedy, ', 'Traylor Howard, ', 'Alan ...   \n1911  Jason Friedberg,   ['    Stars:', 'Carmen Electra, ', 'Vanessa La...   \n1912         Tom Putnam  ['Paris Hilton, ', 'Joel David Moore, ', 'Chri...   \n1913          Bob Clark  ['Jon Voight, ', 'Scott Baio, ', 'Vanessa Ange...   \n1914         Gökhan Gök  ['Halil Söyletmez, ', 'Doga Konakoglu, ', 'Emr...   \n\n        votes     gross  \n0       37661         0  \n1      575451   $53.37M  \n2      629051   $57.60M  \n3      768181   $13.18M  \n4     1067193  $210.61M  \n...       ...       ...  \n1910    52756   $17.02M  \n1911    87342   $14.19M  \n1912    36151    $0.03M  \n1913    29794    $9.11M  \n1914    38072         0  \n\n[1915 rows x 11 columns]\n"
     ]
    }
   ],
   "source": [
    "X = pandas.DataFrame(data, columns=data.columns)\n",
    "print(X)"
   ]
  },
  {
   "cell_type": "code",
   "execution_count": 44,
   "metadata": {
    "tags": []
   },
   "outputs": [],
   "source": [
    "words = \"\\'    Stars:\\', \"\n",
    "words2 = \",\\'\\'\"\n",
    "words3 = \"\\''\"\n",
    "words4 = \"\\\"\"\n",
    "words5 = \"b\"\n",
    "words6 = \"\\'\"\n",
    "words7 = \"\\\\\"\n",
    "words8 = \"V\"\n",
    "words9 = \"X\"\n",
    "for i in data.index:\n",
    "    try: \n",
    "        data.loc[i,'title'] = str(data.loc[i,'title'].encode(encoding=\"ascii\",errors=\"ignore\"))\n",
    "    except:\n",
    "        data.loc[i,'title'] = str(data.loc[i,'title'].encode(encoding=\"latin-1\",errors=\"ignore\"))\n",
    "    else:\n",
    "        data.loc[i,'title'] = str(data.loc[i,'title'].encode(encoding=\"UTF-8\",errors=\"ignore\"))\n",
    "    data.loc[i,'title'] = data.loc[i,'title'].replace(words5,\" \")\n",
    "    data.loc[i,'title'] = data.loc[i,'title'].replace(words6,\" \")\n",
    "    data.loc[i,'title'] = data.loc[i,'title'].replace(words4,\" \")\n",
    "    data.loc[i,'title'] = data.loc[i,'title'].replace(words7,words6)   #replace \\ with '\n",
    "    data.loc[i,'year'] = data.loc[i,'year'].translate({ord(')'):None})\n",
    "    data.loc[i,'year'] = data.loc[i,'year'].translate({ord('('):None})\n",
    "    data.loc[i,'year'] = data.loc[i,'year'].translate({ord('I'):None})\n",
    "    data.loc[i,'year'] = data.loc[i,'year'].translate({ord(' '):None})\n",
    "    data.loc[i,'year'] = data.loc[i,'year'].translate({ord('V'):None})\n",
    "    data.loc[i,'year'] = data.loc[i,'year'].translate({ord('X'):None})\n",
    "    data.loc[i,'year'] = int(data.loc[i,'year'])\n",
    "    data.loc[i,'duration'] = int(data.loc[i,'duration'])\n",
    "    data.loc[i,'rating'] = float(data.loc[i,'rating'])\n",
    "    data.loc[i,'metascore'] = int(data.loc[i,'metascore'])\n",
    "    data.loc[i,'votes'] = int(data.loc[i,'votes'])\n",
    "    data.loc[i,'genre'] = data.loc[i,'genre'].encode('windows-1252').decode('latin-1')\n",
    "    data.loc[i,'director'] = data.loc[i,'director'].translate({ord(','):None})\n",
    "    try: \n",
    "        data.loc[i,'director'] = str(data.loc[i,'director'].encode(encoding=\"ascii\",errors=\"ignore\"))\n",
    "    except:\n",
    "       data.loc[i,'director'] = str(data.loc[i,'director'].encode(encoding=\"latin-1\",errors=\"ignore\"))\n",
    "    else:\n",
    "        data.loc[i,'director'] = str(data.loc[i,'director'].encode(encoding=\"UTF-8\",errors=\"ignore\"))\n",
    "    data.loc[i,'director'] = data.loc[i,'director'].replace(words5,\" \")\n",
    "    data.loc[i,'director'] = data.loc[i,'director'].replace(words6,\" \")\n",
    "    data.loc[i,'director'] = data.loc[i,'director'].replace(words4,\" \")\n",
    "    data.loc[i,'director'] = data.loc[i,'director'].replace(words7,\" \")   #replace \\ with empty\n",
    "    data.loc[i,'actors'] = data.loc[i,'actors'].replace(words,\" \")\n",
    "    try: \n",
    "        data.loc[i,'actors'] = str(data.loc[i,'actors'].encode(encoding=\"ascii\",errors=\"ignore\"))\n",
    "    except:\n",
    "       data.loc[i,'actors'] = str(data.loc[i,'actors'].encode(encoding=\"latin-1\",errors=\"ignore\"))\n",
    "    else:\n",
    "        data.loc[i,'actors'] = str(data.loc[i,'actors'].encode(encoding=\"UTF-8\",errors=\"ignore\"))\n",
    "    data.loc[i,'actors'] = data.loc[i,'actors'].replace(words5,\" \")\n",
    "    data.loc[i,'actors'] = data.loc[i,'actors'].replace(words6,\" \")\n",
    "    data.loc[i,'actors'] = data.loc[i,'actors'].replace(words7,\" \")   #replace \\ with empty\n",
    "    data.loc[i,'actors'] = data.loc[i,'actors'].translate({ord('['):None})\n",
    "    data.loc[i,'actors'] = data.loc[i,'actors'].translate({ord(']'):None})\n",
    "    data.loc[i,'actors'] = data.loc[i,'actors'].translate({ord('|'):None})\n",
    "    data.loc[i,'actors'] = data.loc[i,'actors'].replace(words2,\" \")\n",
    "    data.loc[i,'actors'] = data.loc[i,'actors'].replace(words3,\" \")\n",
    "    data.loc[i,'actors'] = data.loc[i,'actors'].replace(words4,\" \")\n",
    "    data.loc[i,'gross'] = data.loc[i,'gross'].translate({ord('$'):None})\n",
    "    data.loc[i,'gross'] = data.loc[i,'gross'].translate({ord('.'):None})\n",
    "    data.loc[i,'gross'] = data.loc[i,'gross'].replace(\"M\",\"0000\")\n",
    "    data.loc[i,'gross'] = int(data.loc[i,'gross'])"
   ]
  },
  {
   "cell_type": "code",
   "execution_count": 45,
   "metadata": {},
   "outputs": [
    {
     "output_type": "execute_result",
     "data": {
      "text/plain": [
       "13180000"
      ]
     },
     "metadata": {},
     "execution_count": 45
    }
   ],
   "source": [
    "data.gross[3]"
   ]
  },
  {
   "cell_type": "code",
   "execution_count": 46,
   "metadata": {},
   "outputs": [
    {
     "output_type": "execute_result",
     "data": {
      "text/plain": [
       "(1294, 11)"
      ]
     },
     "metadata": {},
     "execution_count": 46
    }
   ],
   "source": [
    "for i in data.index:\n",
    "    if data.loc[i,'year'] < 2000:\n",
    "        #print(data.loc[i,'year'])\n",
    "        data = data.drop(i)\n",
    "\n",
    "data.shape"
   ]
  },
  {
   "cell_type": "code",
   "execution_count": 47,
   "metadata": {},
   "outputs": [
    {
     "output_type": "error",
     "ename": "ValueError",
     "evalue": "Columns must be same length as key",
     "traceback": [
      "\u001b[1;31m---------------------------------------------------------------------------\u001b[0m",
      "\u001b[1;31mValueError\u001b[0m                                Traceback (most recent call last)",
      "\u001b[1;32m<ipython-input-47-48c2172c3064>\u001b[0m in \u001b[0;36m<module>\u001b[1;34m\u001b[0m\n\u001b[1;32m----> 1\u001b[1;33m \u001b[0mdata\u001b[0m\u001b[1;33m[\u001b[0m\u001b[1;33m[\u001b[0m\u001b[1;34m'actors1'\u001b[0m\u001b[1;33m,\u001b[0m\u001b[1;34m'actors2'\u001b[0m\u001b[1;33m,\u001b[0m\u001b[1;34m'actors3'\u001b[0m\u001b[1;33m,\u001b[0m\u001b[1;34m'actors4'\u001b[0m\u001b[1;33m,\u001b[0m\u001b[1;34m'actors5'\u001b[0m\u001b[1;33m,\u001b[0m\u001b[1;34m'actors6'\u001b[0m\u001b[1;33m,\u001b[0m\u001b[1;34m'actors7'\u001b[0m\u001b[1;33m,\u001b[0m\u001b[1;34m'actors8'\u001b[0m\u001b[1;33m]\u001b[0m\u001b[1;33m]\u001b[0m \u001b[1;33m=\u001b[0m \u001b[0mdata\u001b[0m\u001b[1;33m.\u001b[0m\u001b[0mactors\u001b[0m\u001b[1;33m.\u001b[0m\u001b[0mstr\u001b[0m\u001b[1;33m.\u001b[0m\u001b[0msplit\u001b[0m\u001b[1;33m(\u001b[0m\u001b[1;34m\",\"\u001b[0m\u001b[1;33m,\u001b[0m\u001b[0mexpand\u001b[0m\u001b[1;33m=\u001b[0m\u001b[1;32mTrue\u001b[0m\u001b[1;33m)\u001b[0m\u001b[1;33m\u001b[0m\u001b[1;33m\u001b[0m\u001b[0m\n\u001b[0m",
      "\u001b[1;32m~\\anaconda3\\envs\\andirian98\\lib\\site-packages\\pandas\\core\\frame.py\u001b[0m in \u001b[0;36m__setitem__\u001b[1;34m(self, key, value)\u001b[0m\n\u001b[0;32m   2933\u001b[0m             \u001b[0mself\u001b[0m\u001b[1;33m.\u001b[0m\u001b[0m_setitem_frame\u001b[0m\u001b[1;33m(\u001b[0m\u001b[0mkey\u001b[0m\u001b[1;33m,\u001b[0m \u001b[0mvalue\u001b[0m\u001b[1;33m)\u001b[0m\u001b[1;33m\u001b[0m\u001b[1;33m\u001b[0m\u001b[0m\n\u001b[0;32m   2934\u001b[0m         \u001b[1;32melif\u001b[0m \u001b[0misinstance\u001b[0m\u001b[1;33m(\u001b[0m\u001b[0mkey\u001b[0m\u001b[1;33m,\u001b[0m \u001b[1;33m(\u001b[0m\u001b[0mSeries\u001b[0m\u001b[1;33m,\u001b[0m \u001b[0mnp\u001b[0m\u001b[1;33m.\u001b[0m\u001b[0mndarray\u001b[0m\u001b[1;33m,\u001b[0m \u001b[0mlist\u001b[0m\u001b[1;33m,\u001b[0m \u001b[0mIndex\u001b[0m\u001b[1;33m)\u001b[0m\u001b[1;33m)\u001b[0m\u001b[1;33m:\u001b[0m\u001b[1;33m\u001b[0m\u001b[1;33m\u001b[0m\u001b[0m\n\u001b[1;32m-> 2935\u001b[1;33m             \u001b[0mself\u001b[0m\u001b[1;33m.\u001b[0m\u001b[0m_setitem_array\u001b[0m\u001b[1;33m(\u001b[0m\u001b[0mkey\u001b[0m\u001b[1;33m,\u001b[0m \u001b[0mvalue\u001b[0m\u001b[1;33m)\u001b[0m\u001b[1;33m\u001b[0m\u001b[1;33m\u001b[0m\u001b[0m\n\u001b[0m\u001b[0;32m   2936\u001b[0m         \u001b[1;32melse\u001b[0m\u001b[1;33m:\u001b[0m\u001b[1;33m\u001b[0m\u001b[1;33m\u001b[0m\u001b[0m\n\u001b[0;32m   2937\u001b[0m             \u001b[1;31m# set column\u001b[0m\u001b[1;33m\u001b[0m\u001b[1;33m\u001b[0m\u001b[1;33m\u001b[0m\u001b[0m\n",
      "\u001b[1;32m~\\anaconda3\\envs\\andirian98\\lib\\site-packages\\pandas\\core\\frame.py\u001b[0m in \u001b[0;36m_setitem_array\u001b[1;34m(self, key, value)\u001b[0m\n\u001b[0;32m   2959\u001b[0m             \u001b[1;32mif\u001b[0m \u001b[0misinstance\u001b[0m\u001b[1;33m(\u001b[0m\u001b[0mvalue\u001b[0m\u001b[1;33m,\u001b[0m \u001b[0mDataFrame\u001b[0m\u001b[1;33m)\u001b[0m\u001b[1;33m:\u001b[0m\u001b[1;33m\u001b[0m\u001b[1;33m\u001b[0m\u001b[0m\n\u001b[0;32m   2960\u001b[0m                 \u001b[1;32mif\u001b[0m \u001b[0mlen\u001b[0m\u001b[1;33m(\u001b[0m\u001b[0mvalue\u001b[0m\u001b[1;33m.\u001b[0m\u001b[0mcolumns\u001b[0m\u001b[1;33m)\u001b[0m \u001b[1;33m!=\u001b[0m \u001b[0mlen\u001b[0m\u001b[1;33m(\u001b[0m\u001b[0mkey\u001b[0m\u001b[1;33m)\u001b[0m\u001b[1;33m:\u001b[0m\u001b[1;33m\u001b[0m\u001b[1;33m\u001b[0m\u001b[0m\n\u001b[1;32m-> 2961\u001b[1;33m                     \u001b[1;32mraise\u001b[0m \u001b[0mValueError\u001b[0m\u001b[1;33m(\u001b[0m\u001b[1;34m\"Columns must be same length as key\"\u001b[0m\u001b[1;33m)\u001b[0m\u001b[1;33m\u001b[0m\u001b[1;33m\u001b[0m\u001b[0m\n\u001b[0m\u001b[0;32m   2962\u001b[0m                 \u001b[1;32mfor\u001b[0m \u001b[0mk1\u001b[0m\u001b[1;33m,\u001b[0m \u001b[0mk2\u001b[0m \u001b[1;32min\u001b[0m \u001b[0mzip\u001b[0m\u001b[1;33m(\u001b[0m\u001b[0mkey\u001b[0m\u001b[1;33m,\u001b[0m \u001b[0mvalue\u001b[0m\u001b[1;33m.\u001b[0m\u001b[0mcolumns\u001b[0m\u001b[1;33m)\u001b[0m\u001b[1;33m:\u001b[0m\u001b[1;33m\u001b[0m\u001b[1;33m\u001b[0m\u001b[0m\n\u001b[0;32m   2963\u001b[0m                     \u001b[0mself\u001b[0m\u001b[1;33m[\u001b[0m\u001b[0mk1\u001b[0m\u001b[1;33m]\u001b[0m \u001b[1;33m=\u001b[0m \u001b[0mvalue\u001b[0m\u001b[1;33m[\u001b[0m\u001b[0mk2\u001b[0m\u001b[1;33m]\u001b[0m\u001b[1;33m\u001b[0m\u001b[1;33m\u001b[0m\u001b[0m\n",
      "\u001b[1;31mValueError\u001b[0m: Columns must be same length as key"
     ]
    }
   ],
   "source": [
    "data[['actors1','actors2','actors3','actors4','actors5','actors6','actors7','actors8']] = data.actors.str.split(\",\",expand=True)"
   ]
  },
  {
   "cell_type": "code",
   "execution_count": 36,
   "metadata": {},
   "outputs": [
    {
     "output_type": "error",
     "ename": "AttributeError",
     "evalue": "'DataFrame' object has no attribute 'actors1'",
     "traceback": [
      "\u001b[1;31m---------------------------------------------------------------------------\u001b[0m",
      "\u001b[1;31mAttributeError\u001b[0m                            Traceback (most recent call last)",
      "\u001b[1;32m<ipython-input-36-4a13589f1ba1>\u001b[0m in \u001b[0;36m<module>\u001b[1;34m\u001b[0m\n\u001b[1;32m----> 1\u001b[1;33m \u001b[0mdata\u001b[0m \u001b[1;33m=\u001b[0m \u001b[0mlist\u001b[0m\u001b[1;33m(\u001b[0m\u001b[0mzip\u001b[0m\u001b[1;33m(\u001b[0m\u001b[0mdata\u001b[0m\u001b[1;33m.\u001b[0m\u001b[0mtitle\u001b[0m\u001b[1;33m,\u001b[0m \u001b[0mdata\u001b[0m\u001b[1;33m.\u001b[0m\u001b[0myear\u001b[0m\u001b[1;33m,\u001b[0m \u001b[0mdata\u001b[0m\u001b[1;33m.\u001b[0m\u001b[0mcertificate\u001b[0m\u001b[1;33m,\u001b[0m \u001b[0mdata\u001b[0m\u001b[1;33m.\u001b[0m\u001b[0mduration\u001b[0m\u001b[1;33m,\u001b[0m \u001b[0mdata\u001b[0m\u001b[1;33m.\u001b[0m\u001b[0mgenre\u001b[0m\u001b[1;33m,\u001b[0m \u001b[0mdata\u001b[0m\u001b[1;33m.\u001b[0m\u001b[0mrating\u001b[0m\u001b[1;33m,\u001b[0m \u001b[0mdata\u001b[0m\u001b[1;33m.\u001b[0m\u001b[0mmetascore\u001b[0m\u001b[1;33m,\u001b[0m \u001b[0mdata\u001b[0m\u001b[1;33m.\u001b[0m\u001b[0mdirector\u001b[0m\u001b[1;33m,\u001b[0m \u001b[0mdata\u001b[0m\u001b[1;33m.\u001b[0m\u001b[0mactors1\u001b[0m\u001b[1;33m,\u001b[0m\u001b[0mdata\u001b[0m\u001b[1;33m.\u001b[0m\u001b[0mactors2\u001b[0m\u001b[1;33m,\u001b[0m \u001b[0mdata\u001b[0m\u001b[1;33m.\u001b[0m\u001b[0mactors3\u001b[0m\u001b[1;33m,\u001b[0m \u001b[0mdata\u001b[0m\u001b[1;33m.\u001b[0m\u001b[0mactors4\u001b[0m\u001b[1;33m,\u001b[0m \u001b[0mdata\u001b[0m\u001b[1;33m.\u001b[0m\u001b[0mactors5\u001b[0m\u001b[1;33m,\u001b[0m \u001b[0mdata\u001b[0m\u001b[1;33m.\u001b[0m\u001b[0mactors6\u001b[0m\u001b[1;33m,\u001b[0m \u001b[0mdata\u001b[0m\u001b[1;33m.\u001b[0m\u001b[0mactors7\u001b[0m\u001b[1;33m,\u001b[0m \u001b[0mdata\u001b[0m\u001b[1;33m.\u001b[0m\u001b[0mactors8\u001b[0m\u001b[1;33m,\u001b[0m\u001b[0mdata\u001b[0m\u001b[1;33m.\u001b[0m\u001b[0mvotes\u001b[0m\u001b[1;33m,\u001b[0m \u001b[0mdata\u001b[0m\u001b[1;33m.\u001b[0m\u001b[0mgross\u001b[0m\u001b[1;33m)\u001b[0m\u001b[1;33m)\u001b[0m\u001b[1;33m\u001b[0m\u001b[1;33m\u001b[0m\u001b[0m\n\u001b[0m\u001b[0;32m      2\u001b[0m \u001b[1;33m\u001b[0m\u001b[0m\n\u001b[0;32m      3\u001b[0m \u001b[0mdataframe\u001b[0m \u001b[1;33m=\u001b[0m \u001b[0mpandas\u001b[0m\u001b[1;33m.\u001b[0m\u001b[0mDataFrame\u001b[0m\u001b[1;33m(\u001b[0m\u001b[0mdata\u001b[0m\u001b[1;33m,\u001b[0m \u001b[0mcolumns\u001b[0m\u001b[1;33m=\u001b[0m\u001b[1;33m[\u001b[0m\u001b[1;34m\"title\"\u001b[0m\u001b[1;33m,\u001b[0m\u001b[1;34m\"year\"\u001b[0m\u001b[1;33m,\u001b[0m\u001b[1;34m\"certificate\"\u001b[0m\u001b[1;33m,\u001b[0m\u001b[1;34m\"duration\"\u001b[0m\u001b[1;33m,\u001b[0m\u001b[1;34m\"genre\"\u001b[0m\u001b[1;33m,\u001b[0m\u001b[1;34m\"rating\"\u001b[0m\u001b[1;33m,\u001b[0m\u001b[1;34m\"metascore\"\u001b[0m\u001b[1;33m,\u001b[0m\u001b[1;34m\"director\"\u001b[0m\u001b[1;33m,\u001b[0m\u001b[1;34m\"actor1\"\u001b[0m\u001b[1;33m,\u001b[0m\u001b[1;34m\"actor2\"\u001b[0m\u001b[1;33m,\u001b[0m\u001b[1;34m\"actor3\"\u001b[0m\u001b[1;33m,\u001b[0m\u001b[1;34m\"actor4\"\u001b[0m\u001b[1;33m,\u001b[0m\u001b[1;34m\"actor5\"\u001b[0m\u001b[1;33m,\u001b[0m\u001b[1;34m\"actor6\"\u001b[0m\u001b[1;33m,\u001b[0m\u001b[1;34m\"actor7\"\u001b[0m\u001b[1;33m,\u001b[0m\u001b[1;34m\"actor8\"\u001b[0m\u001b[1;33m,\u001b[0m\u001b[1;34m\"votes\"\u001b[0m\u001b[1;33m,\u001b[0m\u001b[1;34m\"gross\"\u001b[0m\u001b[1;33m]\u001b[0m\u001b[1;33m)\u001b[0m\u001b[1;33m\u001b[0m\u001b[1;33m\u001b[0m\u001b[0m\n\u001b[0;32m      4\u001b[0m \u001b[1;33m\u001b[0m\u001b[0m\n\u001b[0;32m      5\u001b[0m \u001b[0mdataframe\u001b[0m\u001b[1;33m.\u001b[0m\u001b[0mto_csv\u001b[0m\u001b[1;33m(\u001b[0m\u001b[1;34mr'C:\\Users\\User\\Downloads\\Scraped IMDB Dataset\\Updated Data\\updated_comedy_movies.csv'\u001b[0m\u001b[1;33m,\u001b[0m\u001b[0mindex\u001b[0m\u001b[1;33m=\u001b[0m\u001b[1;32mFalse\u001b[0m\u001b[1;33m,\u001b[0m \u001b[0mheader\u001b[0m\u001b[1;33m=\u001b[0m\u001b[1;32mTrue\u001b[0m\u001b[1;33m)\u001b[0m\u001b[1;33m\u001b[0m\u001b[1;33m\u001b[0m\u001b[0m\n",
      "\u001b[1;32m~\\anaconda3\\envs\\andirian98\\lib\\site-packages\\pandas\\core\\generic.py\u001b[0m in \u001b[0;36m__getattr__\u001b[1;34m(self, name)\u001b[0m\n\u001b[0;32m   5272\u001b[0m             \u001b[1;32mif\u001b[0m \u001b[0mself\u001b[0m\u001b[1;33m.\u001b[0m\u001b[0m_info_axis\u001b[0m\u001b[1;33m.\u001b[0m\u001b[0m_can_hold_identifiers_and_holds_name\u001b[0m\u001b[1;33m(\u001b[0m\u001b[0mname\u001b[0m\u001b[1;33m)\u001b[0m\u001b[1;33m:\u001b[0m\u001b[1;33m\u001b[0m\u001b[1;33m\u001b[0m\u001b[0m\n\u001b[0;32m   5273\u001b[0m                 \u001b[1;32mreturn\u001b[0m \u001b[0mself\u001b[0m\u001b[1;33m[\u001b[0m\u001b[0mname\u001b[0m\u001b[1;33m]\u001b[0m\u001b[1;33m\u001b[0m\u001b[1;33m\u001b[0m\u001b[0m\n\u001b[1;32m-> 5274\u001b[1;33m             \u001b[1;32mreturn\u001b[0m \u001b[0mobject\u001b[0m\u001b[1;33m.\u001b[0m\u001b[0m__getattribute__\u001b[0m\u001b[1;33m(\u001b[0m\u001b[0mself\u001b[0m\u001b[1;33m,\u001b[0m \u001b[0mname\u001b[0m\u001b[1;33m)\u001b[0m\u001b[1;33m\u001b[0m\u001b[1;33m\u001b[0m\u001b[0m\n\u001b[0m\u001b[0;32m   5275\u001b[0m \u001b[1;33m\u001b[0m\u001b[0m\n\u001b[0;32m   5276\u001b[0m     \u001b[1;32mdef\u001b[0m \u001b[0m__setattr__\u001b[0m\u001b[1;33m(\u001b[0m\u001b[0mself\u001b[0m\u001b[1;33m,\u001b[0m \u001b[0mname\u001b[0m\u001b[1;33m:\u001b[0m \u001b[0mstr\u001b[0m\u001b[1;33m,\u001b[0m \u001b[0mvalue\u001b[0m\u001b[1;33m)\u001b[0m \u001b[1;33m->\u001b[0m \u001b[1;32mNone\u001b[0m\u001b[1;33m:\u001b[0m\u001b[1;33m\u001b[0m\u001b[1;33m\u001b[0m\u001b[0m\n",
      "\u001b[1;31mAttributeError\u001b[0m: 'DataFrame' object has no attribute 'actors1'"
     ]
    }
   ],
   "source": [
    "data = list(zip(data.title, data.year, data.certificate, data.duration, data.genre, data.rating, data.metascore, data.director, data.actors1,data.actors2, data.actors3, data.actors4, data.actors5, data.actors6, data.actors7, data.actors8,data.votes, data.gross))\n",
    "\n",
    "dataframe = pandas.DataFrame(data, columns=[\"title\",\"year\",\"certificate\",\"duration\",\"genre\",\"rating\",\"metascore\",\"director\",\"actor1\",\"actor2\",\"actor3\",\"actor4\",\"actor5\",\"actor6\",\"actor7\",\"actor8\",\"votes\",\"gross\"])\n",
    "\n",
    "dataframe.to_csv(r'C:\\Users\\User\\Downloads\\Scraped IMDB Dataset\\Updated Data\\updated_comedy_movies.csv',index=False, header=True)"
   ]
  },
  {
   "cell_type": "code",
   "execution_count": null,
   "metadata": {},
   "outputs": [],
   "source": []
  }
 ]
}