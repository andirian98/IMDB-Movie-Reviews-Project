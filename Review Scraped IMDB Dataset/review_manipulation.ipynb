{
 "metadata": {
  "language_info": {
   "codemirror_mode": {
    "name": "ipython",
    "version": 3
   },
   "file_extension": ".py",
   "mimetype": "text/x-python",
   "name": "python",
   "nbconvert_exporter": "python",
   "pygments_lexer": "ipython3",
   "version": "3.8.2"
  },
  "orig_nbformat": 2,
  "kernelspec": {
   "name": "python3",
   "display_name": "Python 3",
   "language": "python"
  }
 },
 "nbformat": 4,
 "nbformat_minor": 2,
 "cells": [
  {
   "cell_type": "code",
   "execution_count": 50,
   "metadata": {},
   "outputs": [],
   "source": [
    "import pandas \n",
    "import numpy\n",
    "import re\n",
    "import unicodedata\n",
    "import string\n",
    "import spacy\n",
    "import nltk\n",
    "from nltk.tokenize import ToktokTokenizer\n",
    "tokenizer = ToktokTokenizer()\n",
    "stopword_list = nltk.corpus.stopwords.words('english')\n",
    "stopword_list.remove('not')\n",
    "\n",
    "nlp = spacy.load('en_core_web_sm')\n",
    "data = pandas.read_csv(\"Original Data\\Book20_western.csv\")"
   ]
  },
  {
   "cell_type": "code",
   "execution_count": 52,
   "metadata": {},
   "outputs": [
    {
     "output_type": "stream",
     "name": "stdout",
     "text": [
      "                                                reviews ratings  \\\n0     Great direction, screenplay, performances, sou...       8   \n1     For anyone who isn't much into cinema, I would...      10   \n2     (Jamie Fox, Christoph Waltz, Leonardo DiCaprio...      10   \n3     I just saw this film and I confess that I am c...       8   \n4     Quentin Tarantino, one of the most iconic dire...       0   \n...                                                 ...     ...   \n6709  Much will be said about this film. Whether it ...       0   \n6710  You'd think this was a filming of \"The Emperor...       1   \n6711  The Revenant is beautifully shot, but the stor...       3   \n6712  I had high hopes for this film given fuss abou...       3   \n6713  First of all, I very much like survival movies...       4   \n\n                                               subjects            titles  \n0      Great film with the crazy passion of a great ...  Django Unchained  \n1                                   The Perfect Movie\\n  Django Unchained  \n2                               Tarantino at his best\\n  Django Unchained  \n3      It's not perfect but it's very good... and I'...  Django Unchained  \n4                      Great Mix Of Action And Comedy\\n  Django Unchained  \n...                                                 ...               ...  \n6709                 Beautiful, poetic, and immersive\\n      The Revenant  \n6710          Putrid, Boring, Dull, Pointless, Stupid\\n      The Revenant  \n6711                                       dull movie\\n      The Revenant  \n6712            Boring film with good cinematography.\\n      The Revenant  \n6713                               Wasted opportunity\\n      The Revenant  \n\n[6714 rows x 4 columns]\n"
     ]
    }
   ],
   "source": [
    "X = pandas.DataFrame(data, columns=data.columns)\n",
    "print(X)"
   ]
  },
  {
   "cell_type": "code",
   "execution_count": 53,
   "metadata": {},
   "outputs": [
    {
     "output_type": "execute_result",
     "data": {
      "text/plain": [
       "(6714, 4)"
      ]
     },
     "metadata": {},
     "execution_count": 53
    }
   ],
   "source": [
    "X.shape"
   ]
  },
  {
   "cell_type": "code",
   "execution_count": 54,
   "metadata": {},
   "outputs": [],
   "source": [
    "def decontracted(phrase):\n",
    "    # specific\n",
    "    phrase = re.sub(r\"won\\'t\", \"will not\", phrase)\n",
    "    phrase = re.sub(r\"can\\'t\", \"can not\", phrase)\n",
    "\n",
    "    # general\n",
    "    phrase = re.sub(r\"n\\'t\", \" not\", phrase)\n",
    "    phrase = re.sub(r\"\\'re\", \" are\", phrase)\n",
    "    phrase = re.sub(r\"\\'s\", \" is\", phrase)\n",
    "    phrase = re.sub(r\"\\'d\", \" would\", phrase)\n",
    "    phrase = re.sub(r\"\\'ll\", \" will\", phrase)\n",
    "    phrase = re.sub(r\"\\'t\", \" not\", phrase)\n",
    "    phrase = re.sub(r\"\\'ve\", \" have\", phrase)\n",
    "    phrase = re.sub(r\"\\'m\", \" am\", phrase)\n",
    "    return phrase\n",
    "\n",
    "def fix_int(every_ratings):\n",
    "    every_ratings = re.sub(\"[^A-Za-z0-9]\",\"\",every_ratings)\n",
    "    every_ratings = re.sub(\"[^0-9]\",\"0\",every_ratings)[:2]\n",
    "    every_ratings = int(every_ratings)\n",
    "    return every_ratings\n",
    "\n",
    "def remove_special_characters(text):\n",
    "    # define the pattern to keep\n",
    "    pat = r'[^a-zA-z0-9.,!?/:;\\\"\\'\\s]' \n",
    "    return re.sub(pat,'', text)\n",
    "\n",
    "def remove_punctuation(text):\n",
    "    text = ''.join([c for c in text if c not in string.punctuation])\n",
    "    return text\n",
    "\n",
    "def remove_numbers(text):\n",
    "    # define the pattern to keep\n",
    "    pattern = r'[^a-zA-z.,!?/:;\\\"\\'\\s]' \n",
    "    return re.sub(pattern, '', text)    \n",
    "\n",
    "def get_lem(text):\n",
    "    text = nlp(text)\n",
    "    text = ' '.join([word.lemma_ if word.lemma_ != '-PRON-' else word.text for word in text])\n",
    "    return text\n",
    "\n",
    "def remove_stopwords(text):\n",
    "    # convert sentence into token of words\n",
    "    tokens = tokenizer.tokenize(text)\n",
    "    tokens = [token.strip() for token in tokens]\n",
    "    # check in lowercase \n",
    "    t = [token for token in tokens if token.lower() not in stopword_list]\n",
    "    text = ' '.join(t)    \n",
    "    return text"
   ]
  },
  {
   "cell_type": "code",
   "execution_count": 55,
   "metadata": {},
   "outputs": [],
   "source": [
    "words4 = \"\\\"\"\n",
    "words5 = \"\\b\"\n",
    "words6 = \"\\'\"\n",
    "for i in data.index:\n",
    "    data.loc[i,'ratings'] = re.sub(\"[^A-Za-z0-9]\",\"\",data.loc[i,'ratings'])\n",
    "    data.loc[i,'ratings'] = re.sub(\"[^0-9]\",\"0\",data.loc[i,'ratings'])[:2]\n",
    "    data.loc[i,'ratings'] = fix_int(data.loc[i,'ratings'])\n",
    "    data.loc[i,'reviews'] = unicodedata.normalize('NFKD',data.loc[i,'reviews']).encode('ascii', 'ignore').decode('utf-8', 'ignore')\n",
    "    data.loc[i,'reviews'] = decontracted(data.loc[i,'reviews'])\n",
    "    data.loc[i,'reviews'] = remove_special_characters(data.loc[i,'reviews'])\n",
    "    data.loc[i,'reviews'] = remove_punctuation(data.loc[i,'reviews'])\n",
    "    data.loc[i,'reviews'] = remove_numbers(data.loc[i,'reviews'])\n",
    "    data.loc[i,'reviews'] = get_lem(data.loc[i,'reviews'])\n",
    "    data.loc[i,'reviews'] = remove_stopwords(data.loc[i,'reviews'])\n",
    "    data.loc[i,'subjects'] = unicodedata.normalize('NFKD',data.loc[i,'subjects']).encode('ascii', 'ignore').decode('utf-8', 'ignore')\n",
    "    data.loc[i,'subjects'] = decontracted(data.loc[i,'subjects'])\n",
    "    data.loc[i,'subjects'] = remove_special_characters(data.loc[i,'subjects'])\n",
    "    data.loc[i,'subjects'] = remove_punctuation(data.loc[i,'subjects'])\n",
    "    data.loc[i,'subjects'] = remove_numbers(data.loc[i,'subjects'])\n",
    "    data.loc[i,'subjects'] = get_lem(data.loc[i,'subjects'])\n",
    "    data.loc[i,'subjects'] = remove_stopwords(data.loc[i,'subjects'])\n",
    "    data.loc[i,'titles'] = unicodedata.normalize('NFKD',data.loc[i,'titles']).encode('ascii', 'ignore').decode('utf-8', 'ignore')"
   ]
  },
  {
   "cell_type": "code",
   "execution_count": 56,
   "metadata": {},
   "outputs": [
    {
     "output_type": "execute_result",
     "data": {
      "text/plain": [
       "'funny Jamie Foxx explain Franco Nero silent tip hat original Django plot completely different though sort origin story maybe make Django liberated black slave try free wife help german bounty hunterhere Tarantino team Christoph Waltz guy good role far Inglorious bastard familiar Tarantino expect lot flamboyant dialogue follow gun shot could one good film lately mainly not tarantine almost feel like normal movie not talking seemingly inadvertent humourBottom line western doubt Tarantino unmistakable style add fun black guy hero stellar cast help well Jamie Foxx Leo di Caprio Samuel L Jackson role could possibly carry well course Tarantino cameo small role possible kudo recognize James Remar role always expect connection two character not'"
      ]
     },
     "metadata": {},
     "execution_count": 56
    }
   ],
   "source": [
    "data.reviews[500]"
   ]
  },
  {
   "cell_type": "code",
   "execution_count": 57,
   "metadata": {},
   "outputs": [],
   "source": [
    "data = list(zip(data.reviews, data.subjects, data.ratings, data.titles))\n",
    "\n",
    "dataframe = pandas.DataFrame(data, columns=[\"reviews\",\"subjects\",\"ratings\",\"titles\"])\n",
    "\n",
    "dataframe.to_csv(r'C:\\Users\\User\\Downloads\\Review\\Updated Data\\updated_reviews_western.csv',index=False, header=True)"
   ]
  },
  {
   "cell_type": "code",
   "execution_count": null,
   "metadata": {},
   "outputs": [],
   "source": []
  }
 ]
}